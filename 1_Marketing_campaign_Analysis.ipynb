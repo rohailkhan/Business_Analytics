{
  "nbformat": 4,
  "nbformat_minor": 0,
  "metadata": {
    "colab": {
      "name": "1 Marketing campaign Analysis",
      "provenance": []
    },
    "kernelspec": {
      "name": "python3",
      "display_name": "Python 3"
    },
    "language_info": {
      "name": "python"
    }
  },
  "cells": [
    {
      "cell_type": "code",
      "metadata": {
        "id": "Ig6A_MOsT1EU"
      },
      "source": [
        "import pandas as pd\n",
        "import numpy as np\n",
        "import matplotlib.pyplot as plt"
      ],
      "execution_count": 1,
      "outputs": []
    },
    {
      "cell_type": "code",
      "metadata": {
        "colab": {
          "base_uri": "https://localhost:8080/",
          "height": 195
        },
        "id": "rWKj2Dm6bi1k",
        "outputId": "0fc89531-cd8b-42f0-ad5c-cd1530dc8576"
      },
      "source": [
        "marketing=pd.read_csv('https://raw.githubusercontent.com/rohailkhan/data/main/marketing.csv')\n",
        "marketing.head(3)"
      ],
      "execution_count": 2,
      "outputs": [
        {
          "output_type": "execute_result",
          "data": {
            "text/html": [
              "<div>\n",
              "<style scoped>\n",
              "    .dataframe tbody tr th:only-of-type {\n",
              "        vertical-align: middle;\n",
              "    }\n",
              "\n",
              "    .dataframe tbody tr th {\n",
              "        vertical-align: top;\n",
              "    }\n",
              "\n",
              "    .dataframe thead th {\n",
              "        text-align: right;\n",
              "    }\n",
              "</style>\n",
              "<table border=\"1\" class=\"dataframe\">\n",
              "  <thead>\n",
              "    <tr style=\"text-align: right;\">\n",
              "      <th></th>\n",
              "      <th>user_id</th>\n",
              "      <th>date_served</th>\n",
              "      <th>marketing_channel</th>\n",
              "      <th>variant</th>\n",
              "      <th>converted</th>\n",
              "      <th>language_displayed</th>\n",
              "      <th>language_preferred</th>\n",
              "      <th>age_group</th>\n",
              "      <th>date_subscribed</th>\n",
              "      <th>date_canceled</th>\n",
              "      <th>subscribing_channel</th>\n",
              "      <th>is_retained</th>\n",
              "    </tr>\n",
              "  </thead>\n",
              "  <tbody>\n",
              "    <tr>\n",
              "      <th>0</th>\n",
              "      <td>a100000029</td>\n",
              "      <td>1/1/18</td>\n",
              "      <td>House Ads</td>\n",
              "      <td>personalization</td>\n",
              "      <td>True</td>\n",
              "      <td>English</td>\n",
              "      <td>English</td>\n",
              "      <td>0-18 years</td>\n",
              "      <td>1/1/18</td>\n",
              "      <td>NaN</td>\n",
              "      <td>House Ads</td>\n",
              "      <td>True</td>\n",
              "    </tr>\n",
              "    <tr>\n",
              "      <th>1</th>\n",
              "      <td>a100000030</td>\n",
              "      <td>1/1/18</td>\n",
              "      <td>House Ads</td>\n",
              "      <td>personalization</td>\n",
              "      <td>True</td>\n",
              "      <td>English</td>\n",
              "      <td>English</td>\n",
              "      <td>19-24 years</td>\n",
              "      <td>1/1/18</td>\n",
              "      <td>NaN</td>\n",
              "      <td>House Ads</td>\n",
              "      <td>True</td>\n",
              "    </tr>\n",
              "    <tr>\n",
              "      <th>2</th>\n",
              "      <td>a100000031</td>\n",
              "      <td>1/1/18</td>\n",
              "      <td>House Ads</td>\n",
              "      <td>personalization</td>\n",
              "      <td>True</td>\n",
              "      <td>English</td>\n",
              "      <td>English</td>\n",
              "      <td>24-30 years</td>\n",
              "      <td>1/1/18</td>\n",
              "      <td>NaN</td>\n",
              "      <td>House Ads</td>\n",
              "      <td>True</td>\n",
              "    </tr>\n",
              "  </tbody>\n",
              "</table>\n",
              "</div>"
            ],
            "text/plain": [
              "      user_id date_served  ... subscribing_channel is_retained\n",
              "0  a100000029      1/1/18  ...           House Ads        True\n",
              "1  a100000030      1/1/18  ...           House Ads        True\n",
              "2  a100000031      1/1/18  ...           House Ads        True\n",
              "\n",
              "[3 rows x 12 columns]"
            ]
          },
          "metadata": {},
          "execution_count": 2
        }
      ]
    },
    {
      "cell_type": "code",
      "metadata": {
        "colab": {
          "base_uri": "https://localhost:8080/"
        },
        "id": "4HDyewczbzOP",
        "outputId": "2e0fff69-442b-4006-ece6-ca4b1557b2b9"
      },
      "source": [
        "marketing.info()"
      ],
      "execution_count": 3,
      "outputs": [
        {
          "output_type": "stream",
          "name": "stdout",
          "text": [
            "<class 'pandas.core.frame.DataFrame'>\n",
            "RangeIndex: 10037 entries, 0 to 10036\n",
            "Data columns (total 12 columns):\n",
            " #   Column               Non-Null Count  Dtype \n",
            "---  ------               --------------  ----- \n",
            " 0   user_id              10037 non-null  object\n",
            " 1   date_served          10021 non-null  object\n",
            " 2   marketing_channel    10022 non-null  object\n",
            " 3   variant              10037 non-null  object\n",
            " 4   converted            10022 non-null  object\n",
            " 5   language_displayed   10037 non-null  object\n",
            " 6   language_preferred   10037 non-null  object\n",
            " 7   age_group            10037 non-null  object\n",
            " 8   date_subscribed      1856 non-null   object\n",
            " 9   date_canceled        577 non-null    object\n",
            " 10  subscribing_channel  1856 non-null   object\n",
            " 11  is_retained          1856 non-null   object\n",
            "dtypes: object(12)\n",
            "memory usage: 941.1+ KB\n"
          ]
        }
      ]
    },
    {
      "cell_type": "markdown",
      "metadata": {
        "id": "oR2XKhJomSgt"
      },
      "source": [
        "### Percentage of Null values"
      ]
    },
    {
      "cell_type": "code",
      "metadata": {
        "id": "i1t2fohEgY6_"
      },
      "source": [
        "null=marketing.isnull().sum()/marketing.isnull().count()*100"
      ],
      "execution_count": 4,
      "outputs": []
    },
    {
      "cell_type": "code",
      "metadata": {
        "colab": {
          "base_uri": "https://localhost:8080/",
          "height": 428
        },
        "id": "hJn3nBa4d0XG",
        "outputId": "2a8e3206-beab-486d-dcdf-9c030b390319"
      },
      "source": [
        "# find dataframe nulls count\n",
        "data = null\n",
        "# create figure\n",
        "fig = plt.figure()\n",
        "ax = fig.add_axes([0,0,1,1])\n",
        "# set Y axis label\n",
        "ax.set_ylabel('Percentage of null values')\n",
        "# set orientation for X axis labels\n",
        "plt.xticks(rotation='vertical')\n",
        "# draw bar chart\n",
        "ax.bar(marketing.columns, data)\n",
        "plt.show()"
      ],
      "execution_count": 5,
      "outputs": [
        {
          "output_type": "display_data",
          "data": {
            "image/png": "[encoded data removed]",
            "text/plain": [
              "<Figure size 432x288 with 1 Axes>"
            ]
          },
          "metadata": {
            "needs_background": "light"
          }
        }
      ]
    },
    {
      "cell_type": "markdown",
      "metadata": {
        "id": "6qvGhpaSqux3"
      },
      "source": [
        "### Pre-processing\n",
        "\n",
        "\n",
        "1.   Change date columns to datetime using pd.to_datetime\n",
        "2.   Change subscribing_channel to int\n",
        "\n"
      ]
    },
    {
      "cell_type": "code",
      "metadata": {
        "id": "OOoQTHGIZAor"
      },
      "source": [
        ""
      ],
      "execution_count": null,
      "outputs": []
    },
    {
      "cell_type": "code",
      "metadata": {
        "id": "LjhaM4tOrlOC"
      },
      "source": [
        "marketing.columns\n",
        "for col in marketing: \n",
        "  if 'date' in col:\n",
        "    marketing[col]=pd.to_datetime(marketing[col])"
      ],
      "execution_count": 6,
      "outputs": []
    },
    {
      "cell_type": "code",
      "metadata": {
        "colab": {
          "base_uri": "https://localhost:8080/"
        },
        "id": "JrFQIbpHsGUF",
        "outputId": "57362300-d0a0-4785-c5f8-e0c2c38e6e67"
      },
      "source": [
        "temp.strftime('%Y-%m-%d')"
      ],
      "execution_count": 7,
      "outputs": [
        {
          "output_type": "execute_result",
          "data": {
            "text/plain": [
              "user_id                        object\n",
              "date_served            datetime64[ns]\n",
              "marketing_channel              object\n",
              "variant                        object\n",
              "converted                      object\n",
              "language_displayed             object\n",
              "language_preferred             object\n",
              "age_group                      object\n",
              "date_subscribed        datetime64[ns]\n",
              "date_canceled          datetime64[ns]\n",
              "subscribing_channel            object\n",
              "is_retained                    object\n",
              "dtype: object"
            ]
          },
          "metadata": {},
          "execution_count": 7
        }
      ]
    },
    {
      "cell_type": "code",
      "metadata": {
        "colab": {
          "base_uri": "https://localhost:8080/"
        },
        "id": "OYa6OazErCs0",
        "outputId": "945b7f96-a210-4ed5-a11b-98a1aa11a815"
      },
      "source": [
        "marketing['subscribing_channel'].unique()"
      ],
      "execution_count": 8,
      "outputs": [
        {
          "output_type": "execute_result",
          "data": {
            "text/plain": [
              "array(['House Ads', 'Email', 'Push', 'Facebook', 'Instagram', nan],\n",
              "      dtype=object)"
            ]
          },
          "metadata": {},
          "execution_count": 8
        }
      ]
    },
    {
      "cell_type": "code",
      "metadata": {
        "id": "EkQsKcqCrFHZ"
      },
      "source": [
        "channel_codes={'House Ads':1, 'Email':2, 'Push':3, 'Facebook':4, 'Instagram':5}\n",
        "# make a new column called channel code..and change\n",
        "# all column values by mapping above dict\n",
        "marketing['channel_code']=marketing['subscribing_channel'].map(channel_codes)"
      ],
      "execution_count": 9,
      "outputs": []
    },
    {
      "cell_type": "markdown",
      "metadata": {
        "id": "KhWhbyIuWyR-"
      },
      "source": [
        "###  Its important to find users according to the day of the week.\n",
        "### Making a new column showing the **Day of the week** for subscription *italicized text*"
      ]
    },
    {
      "cell_type": "code",
      "metadata": {
        "colab": {
          "base_uri": "https://localhost:8080/",
          "height": 142
        },
        "id": "VfXSp_TjXHWr",
        "outputId": "8b760ede-a9dd-4e6d-a326-988dd757b5e6"
      },
      "source": [
        "marketing['DoW']=marketing['date_subscribed'].dt.dayofweek\n",
        "marketing[['DoW']].head(3)"
      ],
      "execution_count": 10,
      "outputs": [
        {
          "output_type": "execute_result",
          "data": {
            "text/html": [
              "<div>\n",
              "<style scoped>\n",
              "    .dataframe tbody tr th:only-of-type {\n",
              "        vertical-align: middle;\n",
              "    }\n",
              "\n",
              "    .dataframe tbody tr th {\n",
              "        vertical-align: top;\n",
              "    }\n",
              "\n",
              "    .dataframe thead th {\n",
              "        text-align: right;\n",
              "    }\n",
              "</style>\n",
              "<table border=\"1\" class=\"dataframe\">\n",
              "  <thead>\n",
              "    <tr style=\"text-align: right;\">\n",
              "      <th></th>\n",
              "      <th>DoW</th>\n",
              "    </tr>\n",
              "  </thead>\n",
              "  <tbody>\n",
              "    <tr>\n",
              "      <th>0</th>\n",
              "      <td>0.0</td>\n",
              "    </tr>\n",
              "    <tr>\n",
              "      <th>1</th>\n",
              "      <td>0.0</td>\n",
              "    </tr>\n",
              "    <tr>\n",
              "      <th>2</th>\n",
              "      <td>0.0</td>\n",
              "    </tr>\n",
              "  </tbody>\n",
              "</table>\n",
              "</div>"
            ],
            "text/plain": [
              "   DoW\n",
              "0  0.0\n",
              "1  0.0\n",
              "2  0.0"
            ]
          },
          "metadata": {},
          "execution_count": 10
        }
      ]
    },
    {
      "cell_type": "markdown",
      "metadata": {
        "id": "4klZrTzAcCt_"
      },
      "source": [
        "# **Question -1** Find unique visiters by day of the month"
      ]
    },
    {
      "cell_type": "code",
      "metadata": {
        "id": "KtqkCphyarx3"
      },
      "source": [
        "marketing['date_served_simple']=[ str(i)[8:10] for i in marketing['date_served']]"
      ],
      "execution_count": 36,
      "outputs": []
    },
    {
      "cell_type": "code",
      "metadata": {
        "colab": {
          "base_uri": "https://localhost:8080/",
          "height": 407
        },
        "id": "luXUaE3vXPhn",
        "outputId": "b8fb9a1b-58e8-4634-91dc-f023f6bf2120"
      },
      "source": [
        "marketing.groupby('date_served_simple')['user_id'].nunique().plot(kind='bar', title='Unique visitors', ylabel='Total unique visitors',\n",
        "         xlabel='Day of the month (January 2018)', figsize=(10, 6))\n",
        "plt.show()"
      ],
      "execution_count": 54,
      "outputs": [
        {
          "output_type": "display_data",
          "data": {
            "image/png": "[encoded data removed]",
            "text/plain": [
              "<Figure size 720x432 with 1 Axes>"
            ]
          },
          "metadata": {
            "needs_background": "light"
          }
        }
      ]
    },
    {
      "cell_type": "markdown",
      "metadata": {
        "id": "EZSDmcD1iASk"
      },
      "source": [
        "# **Question -1** Find unique visiters by day of the week"
      ]
    },
    {
      "cell_type": "code",
      "metadata": {
        "colab": {
          "base_uri": "https://localhost:8080/"
        },
        "id": "kwcSWWAKiCqf",
        "outputId": "6ee32d2d-b938-4a03-e5fe-9f9a4a76e1e3"
      },
      "source": [
        "marketing.groupby(marketing['date_served'].dt.isocalendar().week)['user_id'].nunique()"
      ],
      "execution_count": 59,
      "outputs": [
        {
          "output_type": "execute_result",
          "data": {
            "text/plain": [
              "week\n",
              "1    2115\n",
              "2    2042\n",
              "3    2474\n",
              "4    1512\n",
              "5     952\n",
              "Name: user_id, dtype: int64"
            ]
          },
          "metadata": {},
          "execution_count": 59
        }
      ]
    },
    {
      "cell_type": "code",
      "metadata": {
        "colab": {
          "base_uri": "https://localhost:8080/",
          "height": 400
        },
        "id": "d0W7TaNTjh_E",
        "outputId": "695c981d-aaa4-4b45-d9d6-aace6d2baf43"
      },
      "source": [
        "marketing.groupby(marketing['date_served'].dt.isocalendar().week)['user_id'].nunique().plot(kind='bar', title='Unique visitors', ylabel='Total unique visitors',\n",
        "         xlabel='Week of the month (January 2018)', figsize=(10, 6))\n",
        "plt.show()"
      ],
      "execution_count": 61,
      "outputs": [
        {
          "output_type": "display_data",
          "data": {
            "image/png": "[encoded data removed]",
            "text/plain": [
              "<Figure size 720x432 with 1 Axes>"
            ]
          },
          "metadata": {
            "needs_background": "light"
          }
        }
      ]
    },
    {
      "cell_type": "markdown",
      "metadata": {
        "id": "cKiCw_lNtbqz"
      },
      "source": [
        "##Conversion Rate and Retention Rate\n",
        "### Conversion Rate\n",
        "Shows the rate of success the compaign for bringing new subscribers \n",
        "\n",
        "**Conversion Rate =  Number of people who converted / total no of people we marketed**"
      ]
    },
    {
      "cell_type": "code",
      "metadata": {
        "colab": {
          "base_uri": "https://localhost:8080/"
        },
        "id": "T6O80zwgX7Yo",
        "outputId": "72d8dbc3-a3f3-46b6-eaf6-bb6156fb6310"
      },
      "source": [
        "converted=marketing[marketing['converted']==True]['user_id'].nunique()\n",
        "total=marketing['user_id'].nunique()\n",
        "conversion=converted/total\n",
        "conversion_rate=round(conversion*100,2)\n",
        "conversion_rate"
      ],
      "execution_count": 70,
      "outputs": [
        {
          "output_type": "execute_result",
          "data": {
            "text/plain": [
              "13.89"
            ]
          },
          "metadata": {},
          "execution_count": 70
        }
      ]
    },
    {
      "cell_type": "markdown",
      "metadata": {
        "id": "pcKenpDPsYNh"
      },
      "source": [
        "\n",
        "### Retention Rate\n",
        "\n",
        "**Retention Rate = Number of people who is retained / total no of people who converted**"
      ]
    },
    {
      "cell_type": "code",
      "metadata": {
        "colab": {
          "base_uri": "https://localhost:8080/"
        },
        "id": "bmSodQFZYGuw",
        "outputId": "e6932b08-ef80-444a-dd64-10b2ee79eb9e"
      },
      "source": [
        "total_converted=marketing[marketing['converted']==True]['user_id'].nunique()\n",
        "retained=marketing[marketing['is_retained']==True]['user_id'].nunique()\n",
        "Retention_Rate=round((retained/total_converted)*100,2)\n",
        "Retention_Rate\n"
      ],
      "execution_count": 69,
      "outputs": [
        {
          "output_type": "execute_result",
          "data": {
            "text/plain": [
              "66.8"
            ]
          },
          "metadata": {},
          "execution_count": 69
        }
      ]
    }
  ]
}